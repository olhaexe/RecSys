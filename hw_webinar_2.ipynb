{
 "cells": [
  {
   "cell_type": "code",
   "execution_count": 1,
   "metadata": {},
   "outputs": [],
   "source": [
    "import pandas as pd\n",
    "import numpy as np\n",
    "import matplotlib.pyplot as plt\n",
    "%matplotlib inline\n",
    "\n",
    "# Для работы с матрицами\n",
    "from scipy.sparse import csr_matrix, coo_matrix\n",
    "\n",
    "# Детерминированные алгоритмы\n",
    "from implicit.nearest_neighbours import ItemItemRecommender, CosineRecommender, TFIDFRecommender, BM25Recommender\n",
    "\n",
    "# Метрики\n",
    "from implicit.evaluation import train_test_split\n",
    "#from implicit.evaluation import precision_at_k, mean_average_precision_at_k, AUC_at_k, ndcg_at_k\n",
    "\n",
    "import warnings\n",
    "warnings.filterwarnings(\"ignore\")"
   ]
  },
  {
   "cell_type": "code",
   "execution_count": 2,
   "metadata": {},
   "outputs": [
    {
     "data": {
      "text/html": [
       "<div>\n",
       "<style scoped>\n",
       "    .dataframe tbody tr th:only-of-type {\n",
       "        vertical-align: middle;\n",
       "    }\n",
       "\n",
       "    .dataframe tbody tr th {\n",
       "        vertical-align: top;\n",
       "    }\n",
       "\n",
       "    .dataframe thead th {\n",
       "        text-align: right;\n",
       "    }\n",
       "</style>\n",
       "<table border=\"1\" class=\"dataframe\">\n",
       "  <thead>\n",
       "    <tr style=\"text-align: right;\">\n",
       "      <th></th>\n",
       "      <th>user_id</th>\n",
       "      <th>basket_id</th>\n",
       "      <th>day</th>\n",
       "      <th>item_id</th>\n",
       "      <th>quantity</th>\n",
       "      <th>sales_value</th>\n",
       "      <th>store_id</th>\n",
       "      <th>retail_disc</th>\n",
       "      <th>trans_time</th>\n",
       "      <th>week_no</th>\n",
       "      <th>coupon_disc</th>\n",
       "      <th>coupon_match_disc</th>\n",
       "    </tr>\n",
       "  </thead>\n",
       "  <tbody>\n",
       "    <tr>\n",
       "      <th>0</th>\n",
       "      <td>2375</td>\n",
       "      <td>26984851472</td>\n",
       "      <td>1</td>\n",
       "      <td>1004906</td>\n",
       "      <td>1</td>\n",
       "      <td>1.39</td>\n",
       "      <td>364</td>\n",
       "      <td>-0.6</td>\n",
       "      <td>1631</td>\n",
       "      <td>1</td>\n",
       "      <td>0.0</td>\n",
       "      <td>0.0</td>\n",
       "    </tr>\n",
       "    <tr>\n",
       "      <th>1</th>\n",
       "      <td>2375</td>\n",
       "      <td>26984851472</td>\n",
       "      <td>1</td>\n",
       "      <td>1033142</td>\n",
       "      <td>1</td>\n",
       "      <td>0.82</td>\n",
       "      <td>364</td>\n",
       "      <td>0.0</td>\n",
       "      <td>1631</td>\n",
       "      <td>1</td>\n",
       "      <td>0.0</td>\n",
       "      <td>0.0</td>\n",
       "    </tr>\n",
       "  </tbody>\n",
       "</table>\n",
       "</div>"
      ],
      "text/plain": [
       "   user_id    basket_id  day  item_id  quantity  sales_value  store_id  \\\n",
       "0     2375  26984851472    1  1004906         1         1.39       364   \n",
       "1     2375  26984851472    1  1033142         1         0.82       364   \n",
       "\n",
       "   retail_disc  trans_time  week_no  coupon_disc  coupon_match_disc  \n",
       "0         -0.6        1631        1          0.0                0.0  \n",
       "1          0.0        1631        1          0.0                0.0  "
      ]
     },
     "execution_count": 2,
     "metadata": {},
     "output_type": "execute_result"
    }
   ],
   "source": [
    "data = pd.read_csv('retail_train.csv')\n",
    "data.head(2)"
   ]
  },
  {
   "cell_type": "code",
   "execution_count": 3,
   "metadata": {},
   "outputs": [],
   "source": [
    "test_size_weeks = 3\n",
    "\n",
    "data_train = data[data['week_no'] < data['week_no'].max() - test_size_weeks]\n",
    "data_test = data[data['week_no'] >= data['week_no'].max() - test_size_weeks]"
   ]
  },
  {
   "cell_type": "markdown",
   "metadata": {},
   "source": [
    "### Задание 1. Weighted Random Recommendation\n",
    "\n",
    "Напишите код для случайных рекоммендаций, в которых вероятность рекомендовать товар прямо пропорциональна логарифму продаж\n",
    "- Можно сэмплировать товары случайно, но пропорционально какому-либо весу\n",
    "- Например, прямопропорционально популярности. Вес = log(sales_sum товара)"
   ]
  },
  {
   "cell_type": "code",
   "execution_count": 4,
   "metadata": {},
   "outputs": [],
   "source": [
    "def weighted_random_recommendation(items_weights, n=5):\n",
    "    \"\"\"Случайные рекоммендации\n",
    "    \n",
    "    Input\n",
    "    -----\n",
    "    items_weights: pd.DataFrame\n",
    "        Датафрейм со столбцами item_id, weight. Сумма weight по всем товарам = 1\n",
    "    \"\"\"\n",
    "    \n",
    "    # Подсказка: необходимо модифицировать функцию random_recommendation()\n",
    "    items = np.array(items_weights['item_id'])\n",
    "    weights = np.array(items_weights['weight'])\n",
    "    recs = np.random.choice(items, size=n, replace=False, p=weights)\n",
    "    \n",
    "    return recs.tolist()"
   ]
  },
  {
   "cell_type": "code",
   "execution_count": 5,
   "metadata": {},
   "outputs": [
    {
     "data": {
      "text/plain": [
       "1.0"
      ]
     },
     "execution_count": 5,
     "metadata": {},
     "output_type": "execute_result"
    }
   ],
   "source": [
    "popularity = data_train.groupby('item_id')['sales_value'].sum().reset_index()\n",
    "popularity.sort_values('sales_value', ascending=False, inplace=True)\n",
    "# поскольку сумма весов должна быть равна 1, удобнее присвоить веса исходя из доли в общей сумме продаж:\n",
    "popularity['weight'] = popularity['sales_value'] / popularity['sales_value'].sum()\n",
    "popularity['weight'].sum()"
   ]
  },
  {
   "cell_type": "code",
   "execution_count": 6,
   "metadata": {},
   "outputs": [],
   "source": [
    "items_weights = popularity.copy()\n",
    "items_weights.drop('sales_value', axis=1, inplace=True)"
   ]
  },
  {
   "cell_type": "code",
   "execution_count": 7,
   "metadata": {},
   "outputs": [
    {
     "data": {
      "text/plain": [
       "[9296853, 825665, 844424, 890610, 1134483]"
      ]
     },
     "execution_count": 7,
     "metadata": {},
     "output_type": "execute_result"
    }
   ],
   "source": [
    "result = pd.read_csv('predictions_basic.csv')\n",
    "result['weighted_random_recommendation'] = result['user_id'].apply(lambda x: weighted_random_recommendation(items_weights, n=5))\n",
    "result['weighted_random_recommendation'][0]"
   ]
  },
  {
   "cell_type": "markdown",
   "metadata": {},
   "source": [
    "### Задание 2. Расчет метрик\n",
    "Рассчитайте Precision@5 для каждого алгоритма с помощью функции из вебинара 1. Какой алгоритм показывает лучшее качество?"
   ]
  },
  {
   "cell_type": "code",
   "execution_count": 8,
   "metadata": {},
   "outputs": [
    {
     "data": {
      "text/html": [
       "<div>\n",
       "<style scoped>\n",
       "    .dataframe tbody tr th:only-of-type {\n",
       "        vertical-align: middle;\n",
       "    }\n",
       "\n",
       "    .dataframe tbody tr th {\n",
       "        vertical-align: top;\n",
       "    }\n",
       "\n",
       "    .dataframe thead th {\n",
       "        text-align: right;\n",
       "    }\n",
       "</style>\n",
       "<table border=\"1\" class=\"dataframe\">\n",
       "  <thead>\n",
       "    <tr style=\"text-align: right;\">\n",
       "      <th></th>\n",
       "      <th>user_id</th>\n",
       "      <th>actual</th>\n",
       "      <th>random_recommendation</th>\n",
       "      <th>popular_recommendation</th>\n",
       "      <th>itemitem</th>\n",
       "      <th>cosine</th>\n",
       "      <th>tfidf</th>\n",
       "      <th>own_purchases</th>\n",
       "      <th>weighted_random_recommendation</th>\n",
       "    </tr>\n",
       "  </thead>\n",
       "  <tbody>\n",
       "    <tr>\n",
       "      <th>0</th>\n",
       "      <td>1</td>\n",
       "      <td>[  821867   834484   856942   865456   889248 ...</td>\n",
       "      <td>[8157117, 870291, 1846901, 891748, 1038560]</td>\n",
       "      <td>[6534178, 6533889, 1029743, 6534166, 1082185]</td>\n",
       "      <td>[1082185, 981760, 1127831, 995242, 1098066]</td>\n",
       "      <td>[1082185, 981760, 1127831, 1098066, 961554]</td>\n",
       "      <td>[1082185, 981760, 1127831, 1098066, 961554]</td>\n",
       "      <td>[1082185, 1029743, 995785, 1004906, 1081177]</td>\n",
       "      <td>[9296853, 825665, 844424, 890610, 1134483]</td>\n",
       "    </tr>\n",
       "    <tr>\n",
       "      <th>1</th>\n",
       "      <td>3</td>\n",
       "      <td>[  835476   851057   872021   878302   879948 ...</td>\n",
       "      <td>[1000965, 10121560, 9878622, 13512901, 13039531]</td>\n",
       "      <td>[6534178, 6533889, 1029743, 6534166, 1082185]</td>\n",
       "      <td>[1082185, 981760, 1098066, 995242, 826249]</td>\n",
       "      <td>[1082185, 1098066, 981760, 826249, 883404]</td>\n",
       "      <td>[1082185, 981760, 1098066, 826249, 883404]</td>\n",
       "      <td>[1082185, 1098066, 6534178, 1127831, 1068719]</td>\n",
       "      <td>[13094965, 7168383, 12949524, 6534178, 936508]</td>\n",
       "    </tr>\n",
       "  </tbody>\n",
       "</table>\n",
       "</div>"
      ],
      "text/plain": [
       "   user_id                                             actual  \\\n",
       "0        1  [  821867   834484   856942   865456   889248 ...   \n",
       "1        3  [  835476   851057   872021   878302   879948 ...   \n",
       "\n",
       "                              random_recommendation  \\\n",
       "0       [8157117, 870291, 1846901, 891748, 1038560]   \n",
       "1  [1000965, 10121560, 9878622, 13512901, 13039531]   \n",
       "\n",
       "                          popular_recommendation  \\\n",
       "0  [6534178, 6533889, 1029743, 6534166, 1082185]   \n",
       "1  [6534178, 6533889, 1029743, 6534166, 1082185]   \n",
       "\n",
       "                                      itemitem  \\\n",
       "0  [1082185, 981760, 1127831, 995242, 1098066]   \n",
       "1   [1082185, 981760, 1098066, 995242, 826249]   \n",
       "\n",
       "                                        cosine  \\\n",
       "0  [1082185, 981760, 1127831, 1098066, 961554]   \n",
       "1   [1082185, 1098066, 981760, 826249, 883404]   \n",
       "\n",
       "                                         tfidf  \\\n",
       "0  [1082185, 981760, 1127831, 1098066, 961554]   \n",
       "1   [1082185, 981760, 1098066, 826249, 883404]   \n",
       "\n",
       "                                   own_purchases  \\\n",
       "0   [1082185, 1029743, 995785, 1004906, 1081177]   \n",
       "1  [1082185, 1098066, 6534178, 1127831, 1068719]   \n",
       "\n",
       "                   weighted_random_recommendation  \n",
       "0      [9296853, 825665, 844424, 890610, 1134483]  \n",
       "1  [13094965, 7168383, 12949524, 6534178, 936508]  "
      ]
     },
     "execution_count": 8,
     "metadata": {},
     "output_type": "execute_result"
    }
   ],
   "source": [
    "#result = pd.read_csv('../predictions/predictions_basic.csv')\n",
    "result.head(2)"
   ]
  },
  {
   "cell_type": "code",
   "execution_count": 9,
   "metadata": {},
   "outputs": [
    {
     "data": {
      "text/html": [
       "<div>\n",
       "<style scoped>\n",
       "    .dataframe tbody tr th:only-of-type {\n",
       "        vertical-align: middle;\n",
       "    }\n",
       "\n",
       "    .dataframe tbody tr th {\n",
       "        vertical-align: top;\n",
       "    }\n",
       "\n",
       "    .dataframe thead th {\n",
       "        text-align: right;\n",
       "    }\n",
       "</style>\n",
       "<table border=\"1\" class=\"dataframe\">\n",
       "  <thead>\n",
       "    <tr style=\"text-align: right;\">\n",
       "      <th></th>\n",
       "      <th>user_id</th>\n",
       "      <th>actual</th>\n",
       "      <th>random_recommendation</th>\n",
       "      <th>popular_recommendation</th>\n",
       "      <th>itemitem</th>\n",
       "      <th>cosine</th>\n",
       "      <th>tfidf</th>\n",
       "      <th>own_purchases</th>\n",
       "      <th>weighted_random_recommendation</th>\n",
       "    </tr>\n",
       "  </thead>\n",
       "  <tbody>\n",
       "    <tr>\n",
       "      <th>0</th>\n",
       "      <td>1</td>\n",
       "      <td>[821867, 834484, 856942, 865456, 889248, 90795...</td>\n",
       "      <td>[8157117, 870291, 1846901, 891748, 1038560]</td>\n",
       "      <td>[6534178, 6533889, 1029743, 6534166, 1082185]</td>\n",
       "      <td>[1082185, 981760, 1127831, 995242, 1098066]</td>\n",
       "      <td>[1082185, 981760, 1127831, 1098066, 961554]</td>\n",
       "      <td>[1082185, 981760, 1127831, 1098066, 961554]</td>\n",
       "      <td>[1029743, 995785, 1004906, 1081177]</td>\n",
       "      <td>[9296853, 825665, 844424, 890610, 1134483]</td>\n",
       "    </tr>\n",
       "    <tr>\n",
       "      <th>1</th>\n",
       "      <td>3</td>\n",
       "      <td>[835476, 851057, 872021, 878302, 879948, 90963...</td>\n",
       "      <td>[1000965, 10121560, 9878622, 13512901, 13039531]</td>\n",
       "      <td>[6534178, 6533889, 1029743, 6534166, 1082185]</td>\n",
       "      <td>[1082185, 981760, 1098066, 995242, 826249]</td>\n",
       "      <td>[1082185, 1098066, 981760, 826249, 883404]</td>\n",
       "      <td>[1082185, 981760, 1098066, 826249, 883404]</td>\n",
       "      <td>[1098066, 6534178, 1127831, 1068719]</td>\n",
       "      <td>[13094965, 7168383, 12949524, 6534178, 936508]</td>\n",
       "    </tr>\n",
       "  </tbody>\n",
       "</table>\n",
       "</div>"
      ],
      "text/plain": [
       "   user_id                                             actual  \\\n",
       "0        1  [821867, 834484, 856942, 865456, 889248, 90795...   \n",
       "1        3  [835476, 851057, 872021, 878302, 879948, 90963...   \n",
       "\n",
       "                              random_recommendation  \\\n",
       "0       [8157117, 870291, 1846901, 891748, 1038560]   \n",
       "1  [1000965, 10121560, 9878622, 13512901, 13039531]   \n",
       "\n",
       "                          popular_recommendation  \\\n",
       "0  [6534178, 6533889, 1029743, 6534166, 1082185]   \n",
       "1  [6534178, 6533889, 1029743, 6534166, 1082185]   \n",
       "\n",
       "                                      itemitem  \\\n",
       "0  [1082185, 981760, 1127831, 995242, 1098066]   \n",
       "1   [1082185, 981760, 1098066, 995242, 826249]   \n",
       "\n",
       "                                        cosine  \\\n",
       "0  [1082185, 981760, 1127831, 1098066, 961554]   \n",
       "1   [1082185, 1098066, 981760, 826249, 883404]   \n",
       "\n",
       "                                         tfidf  \\\n",
       "0  [1082185, 981760, 1127831, 1098066, 961554]   \n",
       "1   [1082185, 981760, 1098066, 826249, 883404]   \n",
       "\n",
       "                          own_purchases  \\\n",
       "0   [1029743, 995785, 1004906, 1081177]   \n",
       "1  [1098066, 6534178, 1127831, 1068719]   \n",
       "\n",
       "                   weighted_random_recommendation  \n",
       "0      [9296853, 825665, 844424, 890610, 1134483]  \n",
       "1  [13094965, 7168383, 12949524, 6534178, 936508]  "
      ]
     },
     "execution_count": 9,
     "metadata": {},
     "output_type": "execute_result"
    }
   ],
   "source": [
    "# поскольку элементы подгружаются из csv строками, преобразуем их:\n",
    "for i in range(result.shape[0]):\n",
    "    result['actual'][i] = [int(x) for x in result['actual'][i].replace(\"[\", \"\").replace(\"]\", \"\").replace(\"\\n\", \"\").replace(\",\", \" \").replace(\"   \", \" \").replace(\"  \", \" \").split(\" \")[1:]]\n",
    "    result['random_recommendation'][i] = [int(x) for x in result['random_recommendation'][i][1:-1].split(\", \")]\n",
    "    result['popular_recommendation'][i] = [int(x) for x in result['popular_recommendation'][i][1:-1].split(\", \")]\n",
    "    result['itemitem'][i] = [int(x) for x in result['itemitem'][i][1:-1].split(\", \")]\n",
    "    result['cosine'][i] = [int(x) for x in result['cosine'][i][1:-1].split(\", \")]\n",
    "    result['tfidf'][i] = [int(x) for x in result['tfidf'][i][1:-1].split(\", \")]\n",
    "    result['own_purchases'][i] = [int(x) for x in result['own_purchases'][i].replace(\"[\", \"\").replace(\"]\", \"\").replace(\"\\n\", \"\").replace(\",\", \" \").replace(\"   \", \" \").replace(\"  \", \" \").split(\" \")[1:]]\n",
    "result.head(2)"
   ]
  },
  {
   "cell_type": "code",
   "execution_count": 10,
   "metadata": {},
   "outputs": [],
   "source": [
    "def precision_at_k(recommended_list, bought_list, k=5):\n",
    "    \n",
    "    bought_list = np.array(bought_list)\n",
    "    recommended_list = np.array(recommended_list[:k])\n",
    "    \n",
    "    flags = np.isin(recommended_list, bought_list)\n",
    "    \n",
    "    precision = flags.sum() / len(recommended_list)\n",
    "    \n",
    "    return precision"
   ]
  },
  {
   "cell_type": "code",
   "execution_count": 11,
   "metadata": {},
   "outputs": [
    {
     "data": {
      "text/plain": [
       "0.0005876591576885406"
      ]
     },
     "execution_count": 11,
     "metadata": {},
     "output_type": "execute_result"
    }
   ],
   "source": [
    "# посчитаем метрики precision_at_k:\n",
    "result.apply(lambda row: precision_at_k(row['random_recommendation'], row['actual']), axis=1).mean()"
   ]
  },
  {
   "cell_type": "code",
   "execution_count": 12,
   "metadata": {},
   "outputs": [
    {
     "data": {
      "text/plain": [
       "0.15357492654260343"
      ]
     },
     "execution_count": 12,
     "metadata": {},
     "output_type": "execute_result"
    }
   ],
   "source": [
    "result.apply(lambda row: precision_at_k(row['popular_recommendation'], row['actual']), axis=1).mean()"
   ]
  },
  {
   "cell_type": "code",
   "execution_count": 13,
   "metadata": {},
   "outputs": [
    {
     "data": {
      "text/plain": [
       "0.15112634671890113"
      ]
     },
     "execution_count": 13,
     "metadata": {},
     "output_type": "execute_result"
    }
   ],
   "source": [
    "result.apply(lambda row: precision_at_k(row['itemitem'], row['actual']), axis=1).mean()"
   ]
  },
  {
   "cell_type": "code",
   "execution_count": 14,
   "metadata": {},
   "outputs": [
    {
     "data": {
      "text/plain": [
       "0.15533790401566883"
      ]
     },
     "execution_count": 14,
     "metadata": {},
     "output_type": "execute_result"
    }
   ],
   "source": [
    "result.apply(lambda row: precision_at_k(row['cosine'], row['actual']), axis=1).mean()"
   ]
  },
  {
   "cell_type": "code",
   "execution_count": 15,
   "metadata": {},
   "outputs": [
    {
     "data": {
      "text/plain": [
       "0.16111655239960618"
      ]
     },
     "execution_count": 15,
     "metadata": {},
     "output_type": "execute_result"
    }
   ],
   "source": [
    "result.apply(lambda row: precision_at_k(row['tfidf'], row['actual']), axis=1).mean()"
   ]
  },
  {
   "cell_type": "code",
   "execution_count": 16,
   "metadata": {},
   "outputs": [
    {
     "data": {
      "text/plain": [
       "0.16001969473165928"
      ]
     },
     "execution_count": 16,
     "metadata": {},
     "output_type": "execute_result"
    }
   ],
   "source": [
    "result.apply(lambda row: precision_at_k(row['own_purchases'], row['actual']), axis=1).mean()"
   ]
  },
  {
   "cell_type": "code",
   "execution_count": 17,
   "metadata": {},
   "outputs": [
    {
     "data": {
      "text/plain": [
       "0.02340842311459359"
      ]
     },
     "execution_count": 17,
     "metadata": {},
     "output_type": "execute_result"
    }
   ],
   "source": [
    "result.apply(lambda row: precision_at_k(row['weighted_random_recommendation'], row['actual']), axis=1).mean()"
   ]
  },
  {
   "cell_type": "markdown",
   "metadata": {},
   "source": [
    "### Задание 3*. Улучшение бейзлайнов и ItemItem\n",
    "\n",
    "- Попробуйте улучшить бейзлайны, считая их на топ- {2000, 5000, 10000} товаров. Постройте график зависимости precision@5 от топ-*\n",
    "- Попробуйте улучшить разные варианты ItemItemRecommender, выбирая число соседей $K$. Постройте график зависимости precision@5 от $K$ "
   ]
  },
  {
   "cell_type": "code",
   "execution_count": 18,
   "metadata": {},
   "outputs": [],
   "source": [
    "top_2000 = popularity.head(2000).item_id.tolist()\n",
    "top_5000 = popularity.head(5000).item_id.tolist()\n",
    "top_10000 = popularity.head(10000).item_id.tolist()"
   ]
  },
  {
   "cell_type": "code",
   "execution_count": 19,
   "metadata": {},
   "outputs": [],
   "source": [
    "def random_recommendation(items_top, n=5):\n",
    "    \"\"\"Случайные рекомендации\"\"\"\n",
    "    \n",
    "    items = np.array(items_top)\n",
    "    recs = np.random.choice(items, size=n, replace=False)\n",
    "    \n",
    "    return recs.tolist()"
   ]
  },
  {
   "cell_type": "code",
   "execution_count": 20,
   "metadata": {},
   "outputs": [
    {
     "data": {
      "text/html": [
       "<div>\n",
       "<style scoped>\n",
       "    .dataframe tbody tr th:only-of-type {\n",
       "        vertical-align: middle;\n",
       "    }\n",
       "\n",
       "    .dataframe tbody tr th {\n",
       "        vertical-align: top;\n",
       "    }\n",
       "\n",
       "    .dataframe thead th {\n",
       "        text-align: right;\n",
       "    }\n",
       "</style>\n",
       "<table border=\"1\" class=\"dataframe\">\n",
       "  <thead>\n",
       "    <tr style=\"text-align: right;\">\n",
       "      <th></th>\n",
       "      <th>user_id</th>\n",
       "      <th>actual</th>\n",
       "      <th>random_recommendation</th>\n",
       "      <th>popular_recommendation</th>\n",
       "      <th>itemitem</th>\n",
       "      <th>cosine</th>\n",
       "      <th>tfidf</th>\n",
       "      <th>own_purchases</th>\n",
       "      <th>weighted_random_recommendation</th>\n",
       "      <th>random_recommendation_2000</th>\n",
       "      <th>random_recommendation_5000</th>\n",
       "      <th>random_recommendation_10000</th>\n",
       "    </tr>\n",
       "  </thead>\n",
       "  <tbody>\n",
       "    <tr>\n",
       "      <th>0</th>\n",
       "      <td>1</td>\n",
       "      <td>[821867, 834484, 856942, 865456, 889248, 90795...</td>\n",
       "      <td>[8157117, 870291, 1846901, 891748, 1038560]</td>\n",
       "      <td>[6534178, 6533889, 1029743, 6534166, 1082185]</td>\n",
       "      <td>[1082185, 981760, 1127831, 995242, 1098066]</td>\n",
       "      <td>[1082185, 981760, 1127831, 1098066, 961554]</td>\n",
       "      <td>[1082185, 981760, 1127831, 1098066, 961554]</td>\n",
       "      <td>[1029743, 995785, 1004906, 1081177]</td>\n",
       "      <td>[9296853, 825665, 844424, 890610, 1134483]</td>\n",
       "      <td>[936634, 7410217, 1006342, 906923, 9297474]</td>\n",
       "      <td>[6533236, 983316, 12949855, 7166672, 1020649]</td>\n",
       "      <td>[12330376, 1043958, 933303, 862794, 6513703]</td>\n",
       "    </tr>\n",
       "    <tr>\n",
       "      <th>1</th>\n",
       "      <td>3</td>\n",
       "      <td>[835476, 851057, 872021, 878302, 879948, 90963...</td>\n",
       "      <td>[1000965, 10121560, 9878622, 13512901, 13039531]</td>\n",
       "      <td>[6534178, 6533889, 1029743, 6534166, 1082185]</td>\n",
       "      <td>[1082185, 981760, 1098066, 995242, 826249]</td>\n",
       "      <td>[1082185, 1098066, 981760, 826249, 883404]</td>\n",
       "      <td>[1082185, 981760, 1098066, 826249, 883404]</td>\n",
       "      <td>[1098066, 6534178, 1127831, 1068719]</td>\n",
       "      <td>[13094965, 7168383, 12949524, 6534178, 936508]</td>\n",
       "      <td>[908314, 15972298, 9673830, 961269, 1103513]</td>\n",
       "      <td>[10456568, 5569303, 996259, 961024, 1123436]</td>\n",
       "      <td>[1048849, 919828, 10457110, 917565, 9827953]</td>\n",
       "    </tr>\n",
       "  </tbody>\n",
       "</table>\n",
       "</div>"
      ],
      "text/plain": [
       "   user_id                                             actual  \\\n",
       "0        1  [821867, 834484, 856942, 865456, 889248, 90795...   \n",
       "1        3  [835476, 851057, 872021, 878302, 879948, 90963...   \n",
       "\n",
       "                              random_recommendation  \\\n",
       "0       [8157117, 870291, 1846901, 891748, 1038560]   \n",
       "1  [1000965, 10121560, 9878622, 13512901, 13039531]   \n",
       "\n",
       "                          popular_recommendation  \\\n",
       "0  [6534178, 6533889, 1029743, 6534166, 1082185]   \n",
       "1  [6534178, 6533889, 1029743, 6534166, 1082185]   \n",
       "\n",
       "                                      itemitem  \\\n",
       "0  [1082185, 981760, 1127831, 995242, 1098066]   \n",
       "1   [1082185, 981760, 1098066, 995242, 826249]   \n",
       "\n",
       "                                        cosine  \\\n",
       "0  [1082185, 981760, 1127831, 1098066, 961554]   \n",
       "1   [1082185, 1098066, 981760, 826249, 883404]   \n",
       "\n",
       "                                         tfidf  \\\n",
       "0  [1082185, 981760, 1127831, 1098066, 961554]   \n",
       "1   [1082185, 981760, 1098066, 826249, 883404]   \n",
       "\n",
       "                          own_purchases  \\\n",
       "0   [1029743, 995785, 1004906, 1081177]   \n",
       "1  [1098066, 6534178, 1127831, 1068719]   \n",
       "\n",
       "                   weighted_random_recommendation  \\\n",
       "0      [9296853, 825665, 844424, 890610, 1134483]   \n",
       "1  [13094965, 7168383, 12949524, 6534178, 936508]   \n",
       "\n",
       "                     random_recommendation_2000  \\\n",
       "0   [936634, 7410217, 1006342, 906923, 9297474]   \n",
       "1  [908314, 15972298, 9673830, 961269, 1103513]   \n",
       "\n",
       "                      random_recommendation_5000  \\\n",
       "0  [6533236, 983316, 12949855, 7166672, 1020649]   \n",
       "1   [10456568, 5569303, 996259, 961024, 1123436]   \n",
       "\n",
       "                    random_recommendation_10000  \n",
       "0  [12330376, 1043958, 933303, 862794, 6513703]  \n",
       "1  [1048849, 919828, 10457110, 917565, 9827953]  "
      ]
     },
     "execution_count": 20,
     "metadata": {},
     "output_type": "execute_result"
    }
   ],
   "source": [
    "result['random_recommendation_2000'] = result['user_id'].apply(lambda x: random_recommendation(top_2000, n=5))\n",
    "result['random_recommendation_5000'] = result['user_id'].apply(lambda x: random_recommendation(top_5000, n=5))\n",
    "result['random_recommendation_10000'] = result['user_id'].apply(lambda x: random_recommendation(top_10000, n=5))\n",
    "result.head(2)"
   ]
  },
  {
   "cell_type": "code",
   "execution_count": 21,
   "metadata": {},
   "outputs": [
    {
     "data": {
      "text/plain": [
       "0.009010773751224275"
      ]
     },
     "execution_count": 21,
     "metadata": {},
     "output_type": "execute_result"
    }
   ],
   "source": [
    "# посчитаем метрики precision_at_k:\n",
    "y1 = result.apply(lambda row: precision_at_k(row['random_recommendation_2000'], row['actual']), axis=1).mean()\n",
    "y1"
   ]
  },
  {
   "cell_type": "code",
   "execution_count": 22,
   "metadata": {},
   "outputs": [
    {
     "data": {
      "text/plain": [
       "0.004799216454456414"
      ]
     },
     "execution_count": 22,
     "metadata": {},
     "output_type": "execute_result"
    }
   ],
   "source": [
    "y2 = result.apply(lambda row: precision_at_k(row['random_recommendation_5000'], row['actual']), axis=1).mean()\n",
    "y2"
   ]
  },
  {
   "cell_type": "code",
   "execution_count": 23,
   "metadata": {},
   "outputs": [
    {
     "data": {
      "text/plain": [
       "0.004113614103819786"
      ]
     },
     "execution_count": 23,
     "metadata": {},
     "output_type": "execute_result"
    }
   ],
   "source": [
    "y3 = result.apply(lambda row: precision_at_k(row['random_recommendation_10000'], row['actual']), axis=1).mean()\n",
    "y3"
   ]
  },
  {
   "cell_type": "code",
   "execution_count": 24,
   "metadata": {},
   "outputs": [
    {
     "data": {
      "text/plain": [
       "[<matplotlib.lines.Line2D at 0x1e68421af88>]"
      ]
     },
     "execution_count": 24,
     "metadata": {},
     "output_type": "execute_result"
    },
    {
     "data": {
      "image/png": "[encoded data removed]",
      "text/plain": [
       "<Figure size 432x288 with 1 Axes>"
      ]
     },
     "metadata": {
      "needs_background": "light"
     },
     "output_type": "display_data"
    }
   ],
   "source": [
    "# построим график\n",
    "x = [2000, 5000, 10000, data.item_id.nunique()]\n",
    "y = [y1, y2, y3, result.apply(lambda row: precision_at_k(row['random_recommendation'], row['actual']), axis=1).mean()]\n",
    "plt.plot(x, y)"
   ]
  },
  {
   "cell_type": "markdown",
   "metadata": {},
   "source": [
    "Видим, что случайный выбор из популярных товаров дает значение метрики тем больше, чем меньше выборка этих товаров. Это логично, так как популярные товары покупают лучше, но может быть бесполезным, так как высока вероятность того, что этот товар купят без рекомендаций."
   ]
  },
  {
   "cell_type": "code",
   "execution_count": 25,
   "metadata": {},
   "outputs": [],
   "source": [
    "# метрика по популярным товарам будет одинаковой для всех размеров топ-выборки, так как берем первых 5\n",
    "# рассчитаем взвешенные случайные рекомендации для топов"
   ]
  },
  {
   "cell_type": "code",
   "execution_count": 26,
   "metadata": {},
   "outputs": [],
   "source": [
    "items_weights_2000 = popularity[:2000].copy()\n",
    "items_weights_2000['weight'] = items_weights_2000['sales_value'] / items_weights_2000['sales_value'].sum()\n",
    "items_weights_2000.drop('sales_value', axis=1, inplace=True)\n",
    "result['weighted_random_recommendation_2000'] = result['user_id'].apply(lambda x: weighted_random_recommendation(items_weights_2000, n=5))"
   ]
  },
  {
   "cell_type": "code",
   "execution_count": 27,
   "metadata": {},
   "outputs": [],
   "source": [
    "items_weights_5000 = popularity[:5000].copy()\n",
    "items_weights_5000['weight'] = items_weights_5000['sales_value'] / items_weights_5000['sales_value'].sum()\n",
    "items_weights_5000.drop('sales_value', axis=1, inplace=True)\n",
    "result['weighted_random_recommendation_5000'] = result['user_id'].apply(lambda x: weighted_random_recommendation(items_weights_5000, n=5))"
   ]
  },
  {
   "cell_type": "code",
   "execution_count": 28,
   "metadata": {},
   "outputs": [],
   "source": [
    "items_weights_10000 = popularity[:10000].copy()\n",
    "items_weights_10000['weight'] = items_weights_10000['sales_value'] / items_weights_10000['sales_value'].sum()\n",
    "items_weights_10000.drop('sales_value', axis=1, inplace=True)\n",
    "result['weighted_random_recommendation_10000'] = result['user_id'].apply(lambda x: weighted_random_recommendation(items_weights_10000, n=5))"
   ]
  },
  {
   "cell_type": "code",
   "execution_count": 29,
   "metadata": {},
   "outputs": [
    {
     "data": {
      "text/plain": [
       "0.04329089128305611"
      ]
     },
     "execution_count": 29,
     "metadata": {},
     "output_type": "execute_result"
    }
   ],
   "source": [
    "# посчитаем метрики precision_at_k:\n",
    "y1 = result.apply(lambda row: precision_at_k(row['weighted_random_recommendation_2000'], row['actual']), axis=1).mean()\n",
    "y1"
   ]
  },
  {
   "cell_type": "code",
   "execution_count": 30,
   "metadata": {},
   "outputs": [
    {
     "data": {
      "text/plain": [
       "0.030166503428011873"
      ]
     },
     "execution_count": 30,
     "metadata": {},
     "output_type": "execute_result"
    }
   ],
   "source": [
    "y2 = result.apply(lambda row: precision_at_k(row['weighted_random_recommendation_5000'], row['actual']), axis=1).mean()\n",
    "y2"
   ]
  },
  {
   "cell_type": "code",
   "execution_count": 31,
   "metadata": {},
   "outputs": [
    {
     "data": {
      "text/plain": [
       "0.026738491674828693"
      ]
     },
     "execution_count": 31,
     "metadata": {},
     "output_type": "execute_result"
    }
   ],
   "source": [
    "y3 = result.apply(lambda row: precision_at_k(row['weighted_random_recommendation_10000'], row['actual']), axis=1).mean()\n",
    "y3"
   ]
  },
  {
   "cell_type": "code",
   "execution_count": 32,
   "metadata": {},
   "outputs": [
    {
     "data": {
      "text/plain": [
       "[<matplotlib.lines.Line2D at 0x1e684488ec8>]"
      ]
     },
     "execution_count": 32,
     "metadata": {},
     "output_type": "execute_result"
    },
    {
     "data": {
      "image/png": "[encoded data removed]",
      "text/plain": [
       "<Figure size 432x288 with 1 Axes>"
      ]
     },
     "metadata": {
      "needs_background": "light"
     },
     "output_type": "display_data"
    }
   ],
   "source": [
    "# построим график\n",
    "x = [2000, 5000, 10000, data.item_id.nunique()]\n",
    "y = [y1, y2, y3, result.apply(lambda row: precision_at_k(row['random_recommendation'], row['actual']), axis=1).mean()]\n",
    "plt.plot(x, y)"
   ]
  },
  {
   "cell_type": "markdown",
   "metadata": {},
   "source": [
    "Видим, что график ведет себя так же, как и для случайных рекомендаций, только значения метрик по соответствующим топам выше."
   ]
  },
  {
   "cell_type": "code",
   "execution_count": 33,
   "metadata": {},
   "outputs": [
    {
     "data": {
      "text/plain": [
       "(2499, 5001)"
      ]
     },
     "execution_count": 33,
     "metadata": {},
     "output_type": "execute_result"
    }
   ],
   "source": [
    "# Попробуйте улучшить разные варианты ItemItemRecommender, выбирая число соседей  𝐾 . \n",
    "# Постройте график зависимости precision@5 от 𝐾\n",
    "popularity_q = data_train.groupby('item_id')['quantity'].sum().reset_index()\n",
    "popularity_q.rename(columns={'quantity': 'n_sold'}, inplace=True)\n",
    "top_5000 = popularity_q.sort_values('n_sold', ascending=False).head(5000).item_id.tolist()\n",
    "# Заведем фиктивный item_id (если юзер покупал товары из топ-5000, то он \"купил\" такой товар)\n",
    "data_train.loc[~data_train['item_id'].isin(top_5000), 'item_id'] = 999999\n",
    "\n",
    "user_item_matrix = pd.pivot_table(data_train, \n",
    "                                  index='user_id', columns='item_id', \n",
    "                                  values='quantity',\n",
    "                                  aggfunc='count', \n",
    "                                  fill_value=0\n",
    "                                 )\n",
    "\n",
    "user_item_matrix[user_item_matrix > 0] = 1 # так как в итоге хотим предсказать \n",
    "user_item_matrix = user_item_matrix.astype(float) # необходимый тип матрицы для implicit\n",
    "\n",
    "# переведем в формат saprse matrix\n",
    "sparse_user_item = csr_matrix(user_item_matrix).tocsr()\n",
    "\n",
    "user_item_matrix.shape"
   ]
  },
  {
   "cell_type": "code",
   "execution_count": 34,
   "metadata": {},
   "outputs": [],
   "source": [
    "userids = user_item_matrix.index.values\n",
    "itemids = user_item_matrix.columns.values\n",
    "\n",
    "matrix_userids = np.arange(len(userids))\n",
    "matrix_itemids = np.arange(len(itemids))\n",
    "\n",
    "id_to_itemid = dict(zip(matrix_itemids, itemids))\n",
    "id_to_userid = dict(zip(matrix_userids, userids))\n",
    "\n",
    "itemid_to_id = dict(zip(itemids, matrix_itemids))\n",
    "userid_to_id = dict(zip(userids, matrix_userids))"
   ]
  },
  {
   "cell_type": "code",
   "execution_count": 35,
   "metadata": {},
   "outputs": [
    {
     "data": {
      "application/vnd.jupyter.widget-view+json": {
       "model_id": "d10ae3e5536442e4a49998c205d35d68",
       "version_major": 2,
       "version_minor": 0
      },
      "text/plain": [
       "HBox(children=(FloatProgress(value=0.0, max=5001.0), HTML(value='')))"
      ]
     },
     "metadata": {},
     "output_type": "display_data"
    },
    {
     "name": "stdout",
     "output_type": "stream",
     "text": [
      "\n"
     ]
    }
   ],
   "source": [
    "# если запускать циклом, ядро умирает, делаю по очереди\n",
    "# K=1 - это own_purchases, посчитаем для K от 2 до 7, кроме K=5 (это столбец itemitem)\n",
    "model = ItemItemRecommender(K=2, num_threads=4) # K - кол-во билжайших соседей\n",
    "\n",
    "model.fit(csr_matrix(user_item_matrix).T.tocsr(),  # На вход item-user matrix\n",
    "          show_progress=True)\n",
    "\n",
    "result['itemitem2'] = result['user_id'].\\\n",
    "    apply(lambda x: [id_to_itemid[rec[0]] for rec in \n",
    "                    model.recommend(userid=userid_to_id[x], \n",
    "                                    user_items=sparse_user_item,   # на вход user-item matrix\n",
    "                                    N=5, \n",
    "                                    filter_already_liked_items=True, \n",
    "                                    filter_items=None, \n",
    "                                    recalculate_user=True)])"
   ]
  },
  {
   "cell_type": "code",
   "execution_count": 36,
   "metadata": {},
   "outputs": [
    {
     "data": {
      "application/vnd.jupyter.widget-view+json": {
       "model_id": "0712fb7212da4b0b90f79a12ca24ca43",
       "version_major": 2,
       "version_minor": 0
      },
      "text/plain": [
       "HBox(children=(FloatProgress(value=0.0, max=5001.0), HTML(value='')))"
      ]
     },
     "metadata": {},
     "output_type": "display_data"
    },
    {
     "name": "stdout",
     "output_type": "stream",
     "text": [
      "\n"
     ]
    }
   ],
   "source": [
    "model = ItemItemRecommender(K=3, num_threads=4) # K - кол-во билжайших соседей\n",
    "\n",
    "model.fit(csr_matrix(user_item_matrix).T.tocsr(),  # На вход item-user matrix\n",
    "          show_progress=True)\n",
    "\n",
    "result['itemitem3'] = result['user_id'].\\\n",
    "    apply(lambda x: [id_to_itemid[rec[0]] for rec in \n",
    "                    model.recommend(userid=userid_to_id[x], \n",
    "                                    user_items=sparse_user_item,   # на вход user-item matrix\n",
    "                                    N=5, \n",
    "                                    filter_already_liked_items=True, \n",
    "                                    filter_items=None, \n",
    "                                    recalculate_user=True)])"
   ]
  },
  {
   "cell_type": "code",
   "execution_count": 37,
   "metadata": {},
   "outputs": [
    {
     "data": {
      "application/vnd.jupyter.widget-view+json": {
       "model_id": "4bc83bb49307471fa62dacff8eb76daf",
       "version_major": 2,
       "version_minor": 0
      },
      "text/plain": [
       "HBox(children=(FloatProgress(value=0.0, max=5001.0), HTML(value='')))"
      ]
     },
     "metadata": {},
     "output_type": "display_data"
    },
    {
     "name": "stdout",
     "output_type": "stream",
     "text": [
      "\n"
     ]
    }
   ],
   "source": [
    "model = ItemItemRecommender(K=4, num_threads=4) # K - кол-во билжайших соседей\n",
    "\n",
    "model.fit(csr_matrix(user_item_matrix).T.tocsr(),  # На вход item-user matrix\n",
    "          show_progress=True)\n",
    "\n",
    "result['itemitem4'] = result['user_id'].\\\n",
    "    apply(lambda x: [id_to_itemid[rec[0]] for rec in \n",
    "                    model.recommend(userid=userid_to_id[x], \n",
    "                                    user_items=sparse_user_item,   # на вход user-item matrix\n",
    "                                    N=5, \n",
    "                                    filter_already_liked_items=True, \n",
    "                                    filter_items=None, \n",
    "                                    recalculate_user=True)])"
   ]
  },
  {
   "cell_type": "code",
   "execution_count": 38,
   "metadata": {},
   "outputs": [
    {
     "data": {
      "application/vnd.jupyter.widget-view+json": {
       "model_id": "d38835c540494729bf31c8a36228865c",
       "version_major": 2,
       "version_minor": 0
      },
      "text/plain": [
       "HBox(children=(FloatProgress(value=0.0, max=5001.0), HTML(value='')))"
      ]
     },
     "metadata": {},
     "output_type": "display_data"
    },
    {
     "name": "stdout",
     "output_type": "stream",
     "text": [
      "\n"
     ]
    }
   ],
   "source": [
    "model = ItemItemRecommender(K=6, num_threads=4) # K - кол-во билжайших соседей\n",
    "\n",
    "model.fit(csr_matrix(user_item_matrix).T.tocsr(),  # На вход item-user matrix\n",
    "          show_progress=True)\n",
    "\n",
    "result['itemitem6'] = result['user_id'].\\\n",
    "    apply(lambda x: [id_to_itemid[rec[0]] for rec in \n",
    "                    model.recommend(userid=userid_to_id[x], \n",
    "                                    user_items=sparse_user_item,   # на вход user-item matrix\n",
    "                                    N=5, \n",
    "                                    filter_already_liked_items=True, \n",
    "                                    filter_items=None, \n",
    "                                    recalculate_user=True)])"
   ]
  },
  {
   "cell_type": "code",
   "execution_count": 39,
   "metadata": {},
   "outputs": [
    {
     "data": {
      "application/vnd.jupyter.widget-view+json": {
       "model_id": "2916f0bee0434549b70c263e887c66a6",
       "version_major": 2,
       "version_minor": 0
      },
      "text/plain": [
       "HBox(children=(FloatProgress(value=0.0, max=5001.0), HTML(value='')))"
      ]
     },
     "metadata": {},
     "output_type": "display_data"
    },
    {
     "name": "stdout",
     "output_type": "stream",
     "text": [
      "\n"
     ]
    }
   ],
   "source": [
    "model = ItemItemRecommender(K=7, num_threads=4) # K - кол-во билжайших соседей\n",
    "\n",
    "model.fit(csr_matrix(user_item_matrix).T.tocsr(),  # На вход item-user matrix\n",
    "          show_progress=True)\n",
    "\n",
    "result['itemitem7'] = result['user_id'].\\\n",
    "    apply(lambda x: [id_to_itemid[rec[0]] for rec in \n",
    "                    model.recommend(userid=userid_to_id[x], \n",
    "                                    user_items=sparse_user_item,   # на вход user-item matrix\n",
    "                                    N=5, \n",
    "                                    filter_already_liked_items=True, \n",
    "                                    filter_items=None, \n",
    "                                    recalculate_user=True)])"
   ]
  },
  {
   "cell_type": "code",
   "execution_count": 40,
   "metadata": {},
   "outputs": [
    {
     "data": {
      "text/plain": [
       "0.05949232778321952"
      ]
     },
     "execution_count": 40,
     "metadata": {},
     "output_type": "execute_result"
    }
   ],
   "source": [
    "y2 = result.apply(lambda row: precision_at_k(row['itemitem2'], row['actual']), axis=1).mean()\n",
    "y2"
   ]
  },
  {
   "cell_type": "code",
   "execution_count": 41,
   "metadata": {},
   "outputs": [
    {
     "data": {
      "text/plain": [
       "0.05827619980411406"
      ]
     },
     "execution_count": 41,
     "metadata": {},
     "output_type": "execute_result"
    }
   ],
   "source": [
    "y3 = result.apply(lambda row: precision_at_k(row['itemitem3'], row['actual']), axis=1).mean()\n",
    "y3"
   ]
  },
  {
   "cell_type": "code",
   "execution_count": 42,
   "metadata": {},
   "outputs": [
    {
     "data": {
      "text/plain": [
       "0.0412340842311462"
      ]
     },
     "execution_count": 42,
     "metadata": {},
     "output_type": "execute_result"
    }
   ],
   "source": [
    "y4 = result.apply(lambda row: precision_at_k(row['itemitem4'], row['actual']), axis=1).mean()\n",
    "y4"
   ]
  },
  {
   "cell_type": "code",
   "execution_count": 43,
   "metadata": {},
   "outputs": [
    {
     "data": {
      "text/plain": [
       "0.15112634671890113"
      ]
     },
     "execution_count": 43,
     "metadata": {},
     "output_type": "execute_result"
    }
   ],
   "source": [
    "y5 = result.apply(lambda row: precision_at_k(row['itemitem'], row['actual']), axis=1).mean()\n",
    "y5"
   ]
  },
  {
   "cell_type": "code",
   "execution_count": 44,
   "metadata": {},
   "outputs": [
    {
     "data": {
      "text/plain": [
       "0.03183153770812942"
      ]
     },
     "execution_count": 44,
     "metadata": {},
     "output_type": "execute_result"
    }
   ],
   "source": [
    "y6 = result.apply(lambda row: precision_at_k(row['itemitem6'], row['actual']), axis=1).mean()\n",
    "y6"
   ]
  },
  {
   "cell_type": "code",
   "execution_count": 45,
   "metadata": {},
   "outputs": [
    {
     "data": {
      "text/plain": [
       "0.03134182174338897"
      ]
     },
     "execution_count": 45,
     "metadata": {},
     "output_type": "execute_result"
    }
   ],
   "source": [
    "y7 = result.apply(lambda row: precision_at_k(row['itemitem7'], row['actual']), axis=1).mean()\n",
    "y7"
   ]
  },
  {
   "cell_type": "code",
   "execution_count": 46,
   "metadata": {},
   "outputs": [
    {
     "data": {
      "text/plain": [
       "[<matplotlib.lines.Line2D at 0x1e684fdcbc8>]"
      ]
     },
     "execution_count": 46,
     "metadata": {},
     "output_type": "execute_result"
    },
    {
     "data": {
      "image/png": "[encoded data removed]",
      "text/plain": [
       "<Figure size 432x288 with 1 Axes>"
      ]
     },
     "metadata": {
      "needs_background": "light"
     },
     "output_type": "display_data"
    }
   ],
   "source": [
    "# построим график\n",
    "x = [K for K in range(2, 8)]\n",
    "y = [y2, y3, y4, y5, y6, y7]\n",
    "plt.plot(x, y)"
   ]
  },
  {
   "cell_type": "markdown",
   "metadata": {},
   "source": [
    "Честно говоря, не понимаю, почему такие результаты и график. \n",
    "По логике, должны быть чем ближе, тем точнее, а по расчетам получается, что K=5 - оптимальное количество соседей, а варианты больше или меньше дают результат радикально хуже."
   ]
  },
  {
   "cell_type": "code",
   "execution_count": null,
   "metadata": {},
   "outputs": [],
   "source": []
  }
 ],
 "metadata": {
  "kernelspec": {
   "display_name": "Python 3",
   "language": "python",
   "name": "python3"
  },
  "language_info": {
   "codemirror_mode": {
    "name": "ipython",
    "version": 3
   },
   "file_extension": ".py",
   "mimetype": "text/x-python",
   "name": "python",
   "nbconvert_exporter": "python",
   "pygments_lexer": "ipython3",
   "version": "3.7.6"
  }
 },
 "nbformat": 4,
 "nbformat_minor": 4
}
